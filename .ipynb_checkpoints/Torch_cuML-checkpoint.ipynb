{
 "cells": [
  {
   "cell_type": "code",
   "execution_count": 1,
   "id": "23d8747e-8645-4183-89a8-fae0ac2db294",
   "metadata": {},
   "outputs": [],
   "source": [
    "import torch\n",
    "import cupy as cp\n",
    "import time\n",
    "from cuml.svm import SVC\n",
    "from cuml.metrics import accuracy_score"
   ]
  },
  {
   "cell_type": "code",
   "execution_count": 5,
   "id": "6bb025ce-c06a-464b-ace5-426f73395590",
   "metadata": {},
   "outputs": [
    {
     "name": "stdout",
     "output_type": "stream",
     "text": [
      "221\n",
      "<class 'list'>\n",
      "tensor([[ 0.0619,  0.1047,  0.3893,  ..., -0.0624,  0.4146, -0.5707],\n",
      "        [-0.1575,  0.0744,  0.1700,  ...,  0.1540,  0.1223, -0.2277],\n",
      "        [-0.1692, -0.1259,  0.0976,  ..., -0.0332,  0.1353,  0.1232],\n",
      "        ...,\n",
      "        [ 0.0241,  0.1229,  0.1638,  ...,  0.2322,  0.1460,  0.0641],\n",
      "        [-0.1351, -0.0622,  0.1669,  ..., -0.0428,  0.0705, -0.2336],\n",
      "        [ 0.4219, -0.2964,  0.1961,  ..., -0.2098,  0.1971, -0.1113]],\n",
      "       device='cuda:0')\n",
      "tensor([[-0.3255,  0.4538,  0.3078,  ..., -0.1275,  0.0651,  0.3166],\n",
      "        [ 0.0855,  0.4236,  0.0448,  ...,  0.0030,  0.1173, -0.6522],\n",
      "        [ 0.1430, -0.1854,  0.4404,  ...,  0.1276,  0.0764, -0.8838],\n",
      "        ...,\n",
      "        [ 0.1277, -0.1897,  0.2583,  ...,  0.1236, -0.2106, -0.3248],\n",
      "        [ 0.0803, -0.2797, -0.0196,  ..., -0.0842,  0.4050, -0.1758],\n",
      "        [ 0.0916,  0.3709,  0.1829,  ..., -0.0231, -0.1512,  0.2301]],\n",
      "       device='cuda:0')\n",
      "tensor([[ 0.2212,  0.1688,  0.1257,  ...,  0.0858,  0.0889,  0.2995],\n",
      "        [-0.0428, -0.0179,  0.0072,  ...,  0.3478, -0.2212,  0.2206],\n",
      "        [-0.2802,  0.0870, -0.1651,  ..., -0.2096,  0.1562,  0.1104],\n",
      "        ...,\n",
      "        [ 0.1695,  0.2192,  0.1194,  ..., -0.1607,  0.0271, -0.0969],\n",
      "        [ 0.2999, -0.0834, -0.1799,  ...,  0.0475,  0.1131, -0.1369],\n",
      "        [ 0.3935,  0.2034, -0.1702,  ..., -0.1254, -0.0056, -0.1506]],\n",
      "       device='cuda:0')\n",
      "_________________________\n",
      "221\n",
      "<class 'list'>\n",
      "tensor([[0., 0., 0.,  ..., 0., 0., 0.],\n",
      "        [0., 0., 0.,  ..., 0., 0., 0.],\n",
      "        [0., 0., 0.,  ..., 0., 0., 0.],\n",
      "        ...,\n",
      "        [0., 0., 0.,  ..., 0., 0., 0.],\n",
      "        [0., 0., 0.,  ..., 0., 0., 0.],\n",
      "        [0., 0., 0.,  ..., 0., 0., 0.]], device='cuda:0', dtype=torch.bfloat16)\n",
      "tensor([[0., 0., 0.,  ..., 0., 0., 0.],\n",
      "        [0., 0., 0.,  ..., 0., 0., 0.],\n",
      "        [0., 0., 0.,  ..., 0., 0., 0.],\n",
      "        ...,\n",
      "        [0., 0., 0.,  ..., 0., 0., 0.],\n",
      "        [0., 0., 0.,  ..., 0., 0., 0.],\n",
      "        [0., 0., 0.,  ..., 0., 0., 0.]], device='cuda:0', dtype=torch.bfloat16)\n",
      "tensor([[0., 0., 0.,  ..., 0., 0., 0.],\n",
      "        [0., 0., 0.,  ..., 0., 0., 0.],\n",
      "        [0., 0., 0.,  ..., 0., 0., 0.],\n",
      "        ...,\n",
      "        [0., 0., 0.,  ..., 0., 0., 0.],\n",
      "        [0., 0., 0.,  ..., 0., 0., 0.],\n",
      "        [0., 0., 0.,  ..., 0., 0., 0.]], device='cuda:0', dtype=torch.bfloat16)\n",
      "_________________________\n"
     ]
    },
    {
     "ename": "NameError",
     "evalue": "name 'tqdm' is not defined",
     "output_type": "error",
     "traceback": [
      "\u001b[0;31m---------------------------------------------------------------------------\u001b[0m",
      "\u001b[0;31mNameError\u001b[0m                                 Traceback (most recent call last)",
      "Cell \u001b[0;32mIn[5], line 24\u001b[0m\n\u001b[1;32m     22\u001b[0m \u001b[38;5;66;03m# Tallies?\u001b[39;00m\n\u001b[1;32m     23\u001b[0m \u001b[38;5;28;01massert\u001b[39;00m \u001b[38;5;28mlen\u001b[39m(checkpoint_sae) \u001b[38;5;241m==\u001b[39m \u001b[38;5;28mlen\u001b[39m(checkpoint_model), \u001b[38;5;124m\"\u001b[39m\u001b[38;5;124mLengths dont match\u001b[39m\u001b[38;5;124m\"\u001b[39m\n\u001b[0;32m---> 24\u001b[0m \u001b[38;5;28;01mfor\u001b[39;00m i \u001b[38;5;129;01min\u001b[39;00m \u001b[43mtqdm\u001b[49m\u001b[38;5;241m.\u001b[39mtqdm(\u001b[38;5;28mrange\u001b[39m(\u001b[38;5;28mlen\u001b[39m(checkpoint_sae))):\n\u001b[1;32m     25\u001b[0m     \u001b[38;5;28;01mif\u001b[39;00m checkpoint_sae[i] \u001b[38;5;129;01mis\u001b[39;00m \u001b[38;5;129;01mnot\u001b[39;00m \u001b[38;5;28;01mNone\u001b[39;00m:\n\u001b[1;32m     26\u001b[0m         \u001b[38;5;28;01massert\u001b[39;00m checkpoint_sae[i]\u001b[38;5;241m.\u001b[39mshape[\u001b[38;5;241m0\u001b[39m] \u001b[38;5;241m==\u001b[39m checkpoint_sae[i]\u001b[38;5;241m.\u001b[39mshape[\u001b[38;5;241m0\u001b[39m], \u001b[38;5;124mf\u001b[39m\u001b[38;5;124m\"\u001b[39m\u001b[38;5;124mPositions dont match for index \u001b[39m\u001b[38;5;132;01m{\u001b[39;00mi\u001b[38;5;132;01m}\u001b[39;00m\u001b[38;5;124m\"\u001b[39m\n",
      "\u001b[0;31mNameError\u001b[0m: name 'tqdm' is not defined"
     ]
    }
   ],
   "source": [
    "model = 'activations_pythia_410m/data_subset/model-activations/EleutherAI_pythia-410m_11L_9.pt'\n",
    "sae = 'activations_pythia_410m/data_subset/sae-activations/EleutherAI_sae-pythia-410m-65k_11L_9.pt'\n",
    "\n",
    "\n",
    "checkpoint_model = torch.load(model, map_location=torch.device('cuda:0'), weights_only=False)\n",
    "print(len(checkpoint_model))\n",
    "print(type(checkpoint_model))\n",
    "print(checkpoint_model[3])\n",
    "print(checkpoint_model[4])\n",
    "print(checkpoint_model[5])\n",
    "\n",
    "print('_'*25)\n",
    "checkpoint_sae = torch.load(sae, map_location=torch.device('cuda:0'), weights_only=False)\n",
    "checkpoint_sae = [c.to_dense() if c is not None else None for c in checkpoint_sae]\n",
    "print(len(checkpoint_sae))\n",
    "print(type(checkpoint_sae))\n",
    "print(checkpoint_sae[3])\n",
    "print(checkpoint_sae[4])\n",
    "print(checkpoint_sae[5])\n",
    "\n",
    "print('_'*25)\n",
    "# Tallies?\n",
    "assert len(checkpoint_sae) == len(checkpoint_model), \"Lengths dont match\"\n",
    "for i in tqdm.tqdm(range(len(checkpoint_sae))):\n",
    "    if checkpoint_sae[i] is not None:\n",
    "        assert checkpoint_sae[i].shape[0] == checkpoint_sae[i].shape[0], f\"Positions dont match for index {i}\"\n",
    "        non_zero = (checkpoint_sae[i] != 0).sum(dim = -1)\n",
    "        assert non_zero.max() == 32, f\"More than 32 non zeros: {non_zero.max()}, at index {i}\"\n",
    "        # sometimes there can be instance where there are less than 32 activations that are non zero, but there can never be more than 32\n",
    "        #assert non_zero.min() == 32, f\"Less than 32 non zeros: {non_zero.min()}, at index {i}\"\n",
    "        if non_zero.min() < 32:\n",
    "            f\"Less than 32 non zeros: {non_zero.min()}, at index {i}\"\n",
    "            \n",
    "\n",
    "print('_'*25)\n",
    "assert sum([1 if c is None else 0 for c in checkpoint_sae]) == sum([1 if c is None else 0 for c in checkpoint_model]), \"Unequal Number of Nones\""
   ]
  },
  {
   "cell_type": "code",
   "execution_count": 7,
   "id": "7310c4b5-ff3c-4814-8d84-95d40b55f658",
   "metadata": {},
   "outputs": [],
   "source": [
    "# ---------------------------\n",
    "# 2. Convert PyTorch tensors to CuPy arrays using DLPack (zero-copy)\n",
    "# ---------------------------\n",
    "X_cupy = cp.from_dlpack(torch.utils.dlpack.to_dlpack(X_torch))\n",
    "y_cupy = cp.from_dlpack(torch.utils.dlpack.to_dlpack(y_torch))"
   ]
  },
  {
   "cell_type": "code",
   "execution_count": 8,
   "id": "fd5843ff-6583-4582-a641-d623d9a23931",
   "metadata": {},
   "outputs": [
    {
     "data": {
      "text/plain": [
       "cupy.ndarray"
      ]
     },
     "execution_count": 8,
     "metadata": {},
     "output_type": "execute_result"
    }
   ],
   "source": [
    "type(X_cupy)"
   ]
  },
  {
   "cell_type": "code",
   "execution_count": 9,
   "id": "cd459fa0-a772-462c-8e60-c5c808b96511",
   "metadata": {},
   "outputs": [
    {
     "data": {
      "text/plain": [
       "(5000, 65000)"
      ]
     },
     "execution_count": 9,
     "metadata": {},
     "output_type": "execute_result"
    }
   ],
   "source": [
    "X_cupy.shape"
   ]
  },
  {
   "cell_type": "code",
   "execution_count": 11,
   "id": "299b1cb8-b6cc-4001-880c-415ed40aae90",
   "metadata": {},
   "outputs": [
    {
     "data": {
      "text/plain": [
       "(65000,)"
      ]
     },
     "execution_count": 11,
     "metadata": {},
     "output_type": "execute_result"
    }
   ],
   "source": [
    "X_cupy[0,:].shape"
   ]
  },
  {
   "cell_type": "code",
   "execution_count": 21,
   "id": "3ef530ee-0876-486f-b0e2-d0b9bdb025a0",
   "metadata": {},
   "outputs": [
    {
     "name": "stdout",
     "output_type": "stream",
     "text": [
      "cuML SVC training time: 0.9053 seconds\n"
     ]
    }
   ],
   "source": [
    "# ---------------------------\n",
    "# 3. Initialize and fit cuML's SVC with a linear kernel\n",
    "# ---------------------------\n",
    "start = time.time()\n",
    "svc = SVC(kernel='linear', max_iter=1000)\n",
    "\n",
    "\n",
    "svc.fit(X_cupy, y_cupy)\n",
    "end = time.time()\n",
    "print(\"cuML SVC training time: {:.4f} seconds\".format(end - start))"
   ]
  },
  {
   "cell_type": "code",
   "execution_count": 20,
   "id": "04849263-529c-460f-aedc-1b8d87f18eab",
   "metadata": {},
   "outputs": [
    {
     "name": "stdout",
     "output_type": "stream",
     "text": [
      "Test accuracy: 1.0000\n"
     ]
    }
   ],
   "source": [
    "# ---------------------------\n",
    "# 4. Predict and compute accuracy on the same data (for demonstration)\n",
    "# ---------------------------\n",
    "pred = svc.predict(X_cupy)\n",
    "acc = accuracy_score(y_cupy, pred)\n",
    "print(\"Test accuracy: {:.4f}\".format(acc))"
   ]
  },
  {
   "cell_type": "code",
   "execution_count": null,
   "id": "af4bc294-ef46-4b64-a9f2-338d24b76933",
   "metadata": {},
   "outputs": [],
   "source": []
  }
 ],
 "metadata": {
  "kernelspec": {
   "display_name": "Python 3 (ipykernel)",
   "language": "python",
   "name": "python3"
  },
  "language_info": {
   "codemirror_mode": {
    "name": "ipython",
    "version": 3
   },
   "file_extension": ".py",
   "mimetype": "text/x-python",
   "name": "python",
   "nbconvert_exporter": "python",
   "pygments_lexer": "ipython3",
   "version": "3.11.9"
  }
 },
 "nbformat": 4,
 "nbformat_minor": 5
}
