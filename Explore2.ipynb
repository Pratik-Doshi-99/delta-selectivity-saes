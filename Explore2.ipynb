{
 "cells": [
  {
   "cell_type": "code",
   "execution_count": 1,
   "id": "8d3ecce7-6a26-4429-92f9-aafe82cf48e3",
   "metadata": {},
   "outputs": [],
   "source": [
    "import torch\n",
    "from sparse_tensor import SparseTensor\n",
    "from sparsify.sparsify import Sae"
   ]
  },
  {
   "cell_type": "code",
   "execution_count": 2,
   "id": "9227247e-bb64-404b-9043-50cb319cce93",
   "metadata": {},
   "outputs": [
    {
     "data": {
      "application/vnd.jupyter.widget-view+json": {
       "model_id": "3a806f9f82c3486ebf19e6b610bd8d0f",
       "version_major": 2,
       "version_minor": 0
      },
      "text/plain": [
       "Fetching 2 files:   0%|          | 0/2 [00:00<?, ?it/s]"
      ]
     },
     "metadata": {},
     "output_type": "display_data"
    },
    {
     "name": "stderr",
     "output_type": "stream",
     "text": [
      "Dropping extra args {'signed': False}\n"
     ]
    }
   ],
   "source": [
    "sae = Sae.load_from_hub(\"EleutherAI/sae-pythia-410m-65k\", hookpoint=\"layers.22.mlp\")\n",
    "sae = sae.to('cuda:0')"
   ]
  },
  {
   "cell_type": "code",
   "execution_count": 3,
   "id": "4350fcf3-cbf2-4953-a485-e61f8041801b",
   "metadata": {},
   "outputs": [],
   "source": [
    "ip = torch.rand((512,1024), device='cuda:0')"
   ]
  },
  {
   "cell_type": "code",
   "execution_count": 4,
   "id": "c5d93640-d22d-4f16-a441-b7fb0273a5eb",
   "metadata": {},
   "outputs": [
    {
     "data": {
      "text/plain": [
       "SparseCoderConfig(activation='topk', expansion_factor=32, normalize_decoder=True, num_latents=65536, k=32, multi_topk=False, skip_connection=False, transcode=False)"
      ]
     },
     "execution_count": 4,
     "metadata": {},
     "output_type": "execute_result"
    }
   ],
   "source": [
    "sae.cfg"
   ]
  },
  {
   "cell_type": "code",
   "execution_count": 5,
   "id": "56790b66-464a-461c-8ef8-09ad5c18dbc1",
   "metadata": {},
   "outputs": [],
   "source": [
    "with torch.no_grad():\n",
    "    result = sae.forward(ip)"
   ]
  },
  {
   "cell_type": "code",
   "execution_count": 6,
   "id": "dc93c832-a5c4-4855-9026-4eb1cd9aac68",
   "metadata": {},
   "outputs": [],
   "source": [
    "st = SparseTensor(result.latent_acts, result.latent_indices, (512,sae.num_latents), 1)"
   ]
  },
  {
   "cell_type": "code",
   "execution_count": 8,
   "id": "316f0377-ee5f-44f3-85ce-558e96c89d77",
   "metadata": {
    "scrolled": true
   },
   "outputs": [
    {
     "name": "stdout",
     "output_type": "stream",
     "text": [
      "Dense Tensor Created: torch.Size([512, 65536])\n",
      "1\n",
      "tensor([[ 4353,  8129, 10602,  ..., 57425, 58835, 39907],\n",
      "        [ 4353,  8129, 10602,  ..., 57425, 58835,  2730],\n",
      "        [ 2907,  4353, 10690,  ..., 57425, 58835, 28422],\n",
      "        ...,\n",
      "        [ 4353,  4997, 10602,  ..., 57425, 58835, 55763],\n",
      "        [ 4353,  8129, 10602,  ..., 57425, 58835, 39907],\n",
      "        [ 2706,  4353, 10602,  ..., 57425, 58835, 53706]], device='cuda:0')\n",
      "tensor([[8.5625, 4.5312, 4.4375,  ..., 4.4062, 4.7188, 3.9844],\n",
      "        [9.1250, 4.6562, 4.7812,  ..., 5.3750, 4.5312, 3.9844],\n",
      "        [4.2500, 8.3750, 9.9375,  ..., 4.7500, 4.7812, 4.0000],\n",
      "        ...,\n",
      "        [8.3750, 3.9688, 4.7500,  ..., 5.1875, 4.1875, 3.9375],\n",
      "        [8.3125, 4.3125, 4.7500,  ..., 4.9062, 4.6562, 4.1250],\n",
      "        [4.1250, 8.1875, 4.5938,  ..., 4.6562, 4.2188, 4.0938]],\n",
      "       device='cuda:0', dtype=torch.bfloat16)\n"
     ]
    }
   ],
   "source": [
    "full = SparseTensor.decompress(st)"
   ]
  },
  {
   "cell_type": "code",
   "execution_count": 9,
   "id": "551cca23-b181-47c4-87f8-9b7748209a07",
   "metadata": {},
   "outputs": [
    {
     "data": {
      "text/plain": [
       "torch.Size([512, 65536])"
      ]
     },
     "execution_count": 9,
     "metadata": {},
     "output_type": "execute_result"
    }
   ],
   "source": [
    "full.shape"
   ]
  },
  {
   "cell_type": "code",
   "execution_count": 10,
   "id": "752dd00d-ee97-4d2c-9922-d9f05e83e9b3",
   "metadata": {},
   "outputs": [
    {
     "name": "stdout",
     "output_type": "stream",
     "text": [
      "tensor(32, device='cuda:0')\n",
      "tensor(32, device='cuda:0')\n"
     ]
    }
   ],
   "source": [
    "check = (full != 0)\n",
    "print(check.sum(dim=-1).max())\n",
    "print(check.sum(dim=-1).min())"
   ]
  },
  {
   "cell_type": "code",
   "execution_count": null,
   "id": "8cab229f-5a30-40c8-abc1-cd06047c04b3",
   "metadata": {},
   "outputs": [],
   "source": []
  }
 ],
 "metadata": {
  "kernelspec": {
   "display_name": "Python 3 (ipykernel)",
   "language": "python",
   "name": "python3"
  },
  "language_info": {
   "codemirror_mode": {
    "name": "ipython",
    "version": 3
   },
   "file_extension": ".py",
   "mimetype": "text/x-python",
   "name": "python",
   "nbconvert_exporter": "python",
   "pygments_lexer": "ipython3",
   "version": "3.11.9"
  }
 },
 "nbformat": 4,
 "nbformat_minor": 5
}
