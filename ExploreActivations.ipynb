{
 "cells": [
  {
   "cell_type": "code",
   "execution_count": 45,
   "id": "37eb08e2-27f9-4f54-bbfa-4089da8c6f94",
   "metadata": {},
   "outputs": [],
   "source": [
    "import torch\n",
    "import tqdm"
   ]
  },
  {
   "cell_type": "markdown",
   "id": "9301c253-b925-4a05-932f-b6715e0c84d7",
   "metadata": {},
   "source": [
    "## Compare"
   ]
  },
  {
   "cell_type": "code",
   "execution_count": 52,
   "id": "661aa506-c89b-47c8-9518-b94c9df30b34",
   "metadata": {},
   "outputs": [
    {
     "ename": "RuntimeError",
     "evalue": "PytorchStreamReader failed reading zip archive: failed finding central directory",
     "output_type": "error",
     "traceback": [
      "\u001b[0;31m---------------------------------------------------------------------------\u001b[0m",
      "\u001b[0;31mRuntimeError\u001b[0m                              Traceback (most recent call last)",
      "Cell \u001b[0;32mIn[52], line 7\u001b[0m\n\u001b[1;32m      2\u001b[0m sae \u001b[38;5;241m=\u001b[39m \u001b[38;5;124m'\u001b[39m\u001b[38;5;124mactivations_pythia_410m/nat_lang/sae-activations/EleutherAI_sae-pythia-410m-65k_15L_68.pt\u001b[39m\u001b[38;5;124m'\u001b[39m\n\u001b[1;32m      3\u001b[0m \u001b[38;5;66;03m#model = 'activations_pythia_160m/nat_lang/model-activations/EleutherAI_pythia-160m_11L_19.pt'\u001b[39;00m\n\u001b[1;32m      4\u001b[0m \u001b[38;5;66;03m#sae = 'activations_pythia_160m/nat_lang/sae-activations/EleutherAI_sae-pythia-160m-32k_11L_19.pt'\u001b[39;00m\n\u001b[0;32m----> 7\u001b[0m checkpoint_model \u001b[38;5;241m=\u001b[39m \u001b[43mtorch\u001b[49m\u001b[38;5;241;43m.\u001b[39;49m\u001b[43mload\u001b[49m\u001b[43m(\u001b[49m\u001b[43mmodel\u001b[49m\u001b[43m,\u001b[49m\u001b[43m \u001b[49m\u001b[43mmap_location\u001b[49m\u001b[38;5;241;43m=\u001b[39;49m\u001b[43mtorch\u001b[49m\u001b[38;5;241;43m.\u001b[39;49m\u001b[43mdevice\u001b[49m\u001b[43m(\u001b[49m\u001b[38;5;124;43m'\u001b[39;49m\u001b[38;5;124;43mcuda:0\u001b[39;49m\u001b[38;5;124;43m'\u001b[39;49m\u001b[43m)\u001b[49m\u001b[43m,\u001b[49m\u001b[43m \u001b[49m\u001b[43mweights_only\u001b[49m\u001b[38;5;241;43m=\u001b[39;49m\u001b[38;5;28;43;01mFalse\u001b[39;49;00m\u001b[43m)\u001b[49m\n\u001b[1;32m      8\u001b[0m \u001b[38;5;28mprint\u001b[39m(\u001b[38;5;28mlen\u001b[39m(checkpoint_model))\n\u001b[1;32m      9\u001b[0m \u001b[38;5;28mprint\u001b[39m(\u001b[38;5;28mtype\u001b[39m(checkpoint_model))\n",
      "File \u001b[0;32m/opt/conda/lib/python3.11/site-packages/torch/serialization.py:1072\u001b[0m, in \u001b[0;36mload\u001b[0;34m(f, map_location, pickle_module, weights_only, mmap, **pickle_load_args)\u001b[0m\n\u001b[1;32m   1070\u001b[0m orig_position \u001b[38;5;241m=\u001b[39m opened_file\u001b[38;5;241m.\u001b[39mtell()\n\u001b[1;32m   1071\u001b[0m overall_storage \u001b[38;5;241m=\u001b[39m \u001b[38;5;28;01mNone\u001b[39;00m\n\u001b[0;32m-> 1072\u001b[0m \u001b[38;5;28;01mwith\u001b[39;00m \u001b[43m_open_zipfile_reader\u001b[49m\u001b[43m(\u001b[49m\u001b[43mopened_file\u001b[49m\u001b[43m)\u001b[49m \u001b[38;5;28;01mas\u001b[39;00m opened_zipfile:\n\u001b[1;32m   1073\u001b[0m     \u001b[38;5;28;01mif\u001b[39;00m _is_torchscript_zip(opened_zipfile):\n\u001b[1;32m   1074\u001b[0m         warnings\u001b[38;5;241m.\u001b[39mwarn(\u001b[38;5;124m\"\u001b[39m\u001b[38;5;124m'\u001b[39m\u001b[38;5;124mtorch.load\u001b[39m\u001b[38;5;124m'\u001b[39m\u001b[38;5;124m received a zip file that looks like a TorchScript archive\u001b[39m\u001b[38;5;124m\"\u001b[39m\n\u001b[1;32m   1075\u001b[0m                       \u001b[38;5;124m\"\u001b[39m\u001b[38;5;124m dispatching to \u001b[39m\u001b[38;5;124m'\u001b[39m\u001b[38;5;124mtorch.jit.load\u001b[39m\u001b[38;5;124m'\u001b[39m\u001b[38;5;124m (call \u001b[39m\u001b[38;5;124m'\u001b[39m\u001b[38;5;124mtorch.jit.load\u001b[39m\u001b[38;5;124m'\u001b[39m\u001b[38;5;124m directly to\u001b[39m\u001b[38;5;124m\"\u001b[39m\n\u001b[1;32m   1076\u001b[0m                       \u001b[38;5;124m\"\u001b[39m\u001b[38;5;124m silence this warning)\u001b[39m\u001b[38;5;124m\"\u001b[39m, \u001b[38;5;167;01mUserWarning\u001b[39;00m)\n",
      "File \u001b[0;32m/opt/conda/lib/python3.11/site-packages/torch/serialization.py:480\u001b[0m, in \u001b[0;36m_open_zipfile_reader.__init__\u001b[0;34m(self, name_or_buffer)\u001b[0m\n\u001b[1;32m    479\u001b[0m \u001b[38;5;28;01mdef\u001b[39;00m \u001b[38;5;21m__init__\u001b[39m(\u001b[38;5;28mself\u001b[39m, name_or_buffer) \u001b[38;5;241m-\u001b[39m\u001b[38;5;241m>\u001b[39m \u001b[38;5;28;01mNone\u001b[39;00m:\n\u001b[0;32m--> 480\u001b[0m     \u001b[38;5;28msuper\u001b[39m()\u001b[38;5;241m.\u001b[39m\u001b[38;5;21m__init__\u001b[39m(\u001b[43mtorch\u001b[49m\u001b[38;5;241;43m.\u001b[39;49m\u001b[43m_C\u001b[49m\u001b[38;5;241;43m.\u001b[39;49m\u001b[43mPyTorchFileReader\u001b[49m\u001b[43m(\u001b[49m\u001b[43mname_or_buffer\u001b[49m\u001b[43m)\u001b[49m)\n",
      "\u001b[0;31mRuntimeError\u001b[0m: PytorchStreamReader failed reading zip archive: failed finding central directory"
     ]
    }
   ],
   "source": [
    "model = 'activations_pythia_410m/nat_lang/model-activations/EleutherAI_pythia-410m_15L_68.pt'\n",
    "sae = 'activations_pythia_410m/nat_lang/sae-activations/EleutherAI_sae-pythia-410m-65k_15L_68.pt'\n",
    "#model = 'activations_pythia_160m/nat_lang/model-activations/EleutherAI_pythia-160m_11L_19.pt'\n",
    "#sae = 'activations_pythia_160m/nat_lang/sae-activations/EleutherAI_sae-pythia-160m-32k_11L_19.pt'\n",
    "\n",
    "\n",
    "checkpoint_model = torch.load(model, map_location=torch.device('cuda:0'), weights_only=False)\n",
    "print(len(checkpoint_model))\n",
    "print(type(checkpoint_model))\n",
    "print(checkpoint_model[3])\n",
    "print(checkpoint_model[4])\n",
    "print(checkpoint_model[5])\n",
    "\n",
    "print('_'*25)\n",
    "checkpoint_sae = torch.load(sae, map_location=torch.device('cuda:0'), weights_only=False)\n",
    "checkpoint_sae = [c.to_dense() if c is not None else None for c in checkpoint_sae]\n",
    "print(len(checkpoint_sae))\n",
    "print(type(checkpoint_sae))\n",
    "print(checkpoint_sae[3])\n",
    "print(checkpoint_sae[4])\n",
    "print(checkpoint_sae[5])\n",
    "\n",
    "print('_'*25)\n",
    "# Tallies?\n",
    "assert len(checkpoint_sae) == len(checkpoint_model), \"Lengths dont match\"\n",
    "for i in tqdm.tqdm(range(len(checkpoint_sae))):\n",
    "    if checkpoint_sae[i] is not None:\n",
    "        assert checkpoint_sae[i].shape[0] == checkpoint_sae[i].shape[0], f\"Positions dont match for index {i}\"\n",
    "        non_zero = (checkpoint_sae[i] != 0).sum(dim = -1)\n",
    "        assert non_zero.max() == 32, \"More than 32 non zeros\"\n",
    "        assert non_zero.min() == 32, \"Less than 32 non zeros\"\n",
    "\n",
    "print('_'*25)\n",
    "assert sum([1 if c is None else 0 for c in checkpoint_sae]) == sum([1 if c is None else 0 for c in checkpoint_model]), \"Unequal Number of Nones\""
   ]
  },
  {
   "cell_type": "code",
   "execution_count": null,
   "id": "221bb9be-d75d-4d20-b3d8-d99287f31f22",
   "metadata": {},
   "outputs": [],
   "source": []
  }
 ],
 "metadata": {
  "kernelspec": {
   "display_name": "Python 3 (ipykernel)",
   "language": "python",
   "name": "python3"
  },
  "language_info": {
   "codemirror_mode": {
    "name": "ipython",
    "version": 3
   },
   "file_extension": ".py",
   "mimetype": "text/x-python",
   "name": "python",
   "nbconvert_exporter": "python",
   "pygments_lexer": "ipython3",
   "version": "3.11.9"
  }
 },
 "nbformat": 4,
 "nbformat_minor": 5
}
