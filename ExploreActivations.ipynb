{
 "cells": [
  {
   "cell_type": "code",
   "execution_count": 75,
   "id": "37eb08e2-27f9-4f54-bbfa-4089da8c6f94",
   "metadata": {},
   "outputs": [],
   "source": [
    "import torch\n",
    "import tqdm"
   ]
  },
  {
   "cell_type": "markdown",
   "id": "9301c253-b925-4a05-932f-b6715e0c84d7",
   "metadata": {},
   "source": [
    "## Compare"
   ]
  },
  {
   "cell_type": "code",
   "execution_count": 89,
   "id": "661aa506-c89b-47c8-9518-b94c9df30b34",
   "metadata": {},
   "outputs": [
    {
     "name": "stdout",
     "output_type": "stream",
     "text": [
      "1024\n",
      "<class 'list'>\n",
      "tensor([[-0.0637,  0.3579, -1.2098,  ..., -0.3583,  1.1180, -0.9611],\n",
      "        [-0.0494, -0.1564,  0.4800,  ..., -0.3649,  0.4646, -0.3144],\n",
      "        [-0.2584, -0.5969,  0.3574,  ..., -0.5000,  0.1538, -0.2014],\n",
      "        [-0.0246, -0.7495, -0.0599,  ...,  0.5706,  0.3490, -0.3277],\n",
      "        [ 0.0792, -1.0952,  0.8255,  ..., -0.1914,  0.7000,  0.5294],\n",
      "        [ 0.1731, -0.2657,  0.6635,  ..., -0.6045,  1.4742, -0.2044]],\n",
      "       device='cuda:1')\n",
      "tensor([[-0.9551,  0.3997, -0.2352,  ..., -0.3154,  0.8510, -0.3169],\n",
      "        [-0.5009, -0.0760, -0.5180,  ..., -0.2876,  0.2634,  0.4550]],\n",
      "       device='cuda:1')\n",
      "tensor([[-0.6538, -0.1996,  0.0170,  ..., -0.3735,  1.1986, -0.3299],\n",
      "        [-0.0495, -0.6130,  1.4299,  ..., -0.5024,  0.1963,  0.1940],\n",
      "        [-1.4498, -0.5782, -0.4229,  ..., -1.0788,  0.7377, -0.4139]],\n",
      "       device='cuda:1')\n",
      "_________________________\n",
      "1024\n",
      "<class 'list'>\n",
      "tensor([[0., 0., 0.,  ..., 0., 0., 0.],\n",
      "        [0., 0., 0.,  ..., 0., 0., 0.],\n",
      "        [0., 0., 0.,  ..., 0., 0., 0.],\n",
      "        [0., 0., 0.,  ..., 0., 0., 0.],\n",
      "        [0., 0., 0.,  ..., 0., 0., 0.],\n",
      "        [0., 0., 0.,  ..., 0., 0., 0.]], device='cuda:1', dtype=torch.bfloat16)\n",
      "tensor([[0., 0., 0.,  ..., 0., 0., 0.],\n",
      "        [0., 0., 0.,  ..., 0., 0., 0.]], device='cuda:1', dtype=torch.bfloat16)\n",
      "tensor([[0., 0., 0.,  ..., 0., 0., 0.],\n",
      "        [0., 0., 0.,  ..., 0., 0., 0.],\n",
      "        [0., 0., 0.,  ..., 0., 0., 0.]], device='cuda:1', dtype=torch.bfloat16)\n",
      "_________________________\n"
     ]
    },
    {
     "name": "stderr",
     "output_type": "stream",
     "text": [
      "100%|██████████| 1024/1024 [00:00<00:00, 8804.93it/s]\n"
     ]
    }
   ],
   "source": [
    "model = 'activations_pythia_160m/wikidata_occupation/model-activations/EleutherAI_pythia-160m_2L_1.pt'\n",
    "sae = 'activations_pythia_160m/wikidata_occupation/sae-activations/EleutherAI_sae-pythia-160m-32k_2L_1.pt'\n",
    "\n",
    "\n",
    "checkpoint_model = torch.load(model, map_location=torch.device('cuda:1'), weights_only=False)\n",
    "print(len(checkpoint_model))\n",
    "print(type(checkpoint_model))\n",
    "print(checkpoint_model[3])\n",
    "print(checkpoint_model[4])\n",
    "print(checkpoint_model[5])\n",
    "\n",
    "print('_'*25)\n",
    "checkpoint_sae = torch.load(sae, map_location=torch.device('cuda:1'), weights_only=False)\n",
    "print(len(checkpoint_sae))\n",
    "print(type(checkpoint_sae))\n",
    "print(checkpoint_sae[3])\n",
    "print(checkpoint_sae[4])\n",
    "print(checkpoint_sae[5])\n",
    "\n",
    "print('_'*25)\n",
    "# Tallies?\n",
    "assert len(checkpoint_sae) == len(checkpoint_model), \"Lengths dont match\"\n",
    "for i in tqdm.tqdm(range(len(checkpoint_sae))):\n",
    "    assert checkpoint_sae[i].shape[0] == checkpoint_sae[i].shape[0], f\"Positions dont match for index {i}\"\n",
    "    non_zero = (checkpoint_sae[i] != 0).sum(dim = -1)\n",
    "    assert non_zero.max() == 32, \"More than 32 non zeros\"\n",
    "    assert non_zero.min() == 32, \"Less than 32 non zeros\""
   ]
  },
  {
   "cell_type": "code",
   "execution_count": null,
   "id": "221bb9be-d75d-4d20-b3d8-d99287f31f22",
   "metadata": {},
   "outputs": [],
   "source": []
  }
 ],
 "metadata": {
  "kernelspec": {
   "display_name": "Python 3 (ipykernel)",
   "language": "python",
   "name": "python3"
  },
  "language_info": {
   "codemirror_mode": {
    "name": "ipython",
    "version": 3
   },
   "file_extension": ".py",
   "mimetype": "text/x-python",
   "name": "python",
   "nbconvert_exporter": "python",
   "pygments_lexer": "ipython3",
   "version": "3.11.9"
  }
 },
 "nbformat": 4,
 "nbformat_minor": 5
}
