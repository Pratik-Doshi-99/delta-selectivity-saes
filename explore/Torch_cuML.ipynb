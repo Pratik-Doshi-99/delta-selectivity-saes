{
 "cells": [
  {
   "cell_type": "code",
   "execution_count": 1,
   "id": "23d8747e-8645-4183-89a8-fae0ac2db294",
   "metadata": {},
   "outputs": [],
   "source": [
    "import torch\n",
    "import cupy as cp\n",
    "import time\n",
    "from cuml.svm import SVC\n",
    "from cuml.metrics import accuracy_score\n"
   ]
  },
  {
   "cell_type": "code",
   "execution_count": 3,
   "id": "6bb025ce-c06a-464b-ace5-426f73395590",
   "metadata": {
    "scrolled": true
   },
   "outputs": [
    {
     "name": "stdout",
     "output_type": "stream",
     "text": [
      "1024\n",
      "<class 'list'>\n",
      "tensor([[ 0.0492,  0.5470,  0.1375,  ...,  0.2262, -0.2788, -0.2633],\n",
      "        [-0.2356,  0.0811, -0.1012,  ..., -0.1610,  0.1629,  0.0760],\n",
      "        [ 0.2019, -0.0635, -0.0820,  ...,  0.2694, -0.0834,  0.0086],\n",
      "        ...,\n",
      "        [ 0.2713,  0.3616, -0.2879,  ...,  0.0356,  0.1065, -0.1837],\n",
      "        [-0.0131,  0.0603, -0.1651,  ...,  0.3494,  0.0027, -0.3750],\n",
      "        [ 0.0200,  0.6732, -0.4007,  ...,  0.5561,  0.2307, -0.4278]],\n",
      "       device='cuda:0')\n",
      "tensor([[-0.3050, -0.0791, -0.2149,  ...,  0.1548, -0.1444, -0.3251],\n",
      "        [-0.0615,  0.1040, -0.1930,  ...,  0.3543, -0.1184, -0.0146],\n",
      "        [-0.1862,  0.0594,  0.1303,  ...,  0.2660, -0.2469,  0.2455],\n",
      "        ...,\n",
      "        [-0.5425,  0.0558, -0.0265,  ...,  0.1966, -0.0360, -0.3869],\n",
      "        [-0.0101, -0.0076,  0.4090,  ...,  0.2384,  0.1096,  0.3491],\n",
      "        [-0.1762,  0.1220, -0.0825,  ...,  0.0574, -0.0748,  0.0346]],\n",
      "       device='cuda:0')\n",
      "tensor([[-0.3260, -0.3580,  0.0437,  ...,  0.0821, -0.0599,  0.1318],\n",
      "        [-0.0142,  0.1729,  0.1843,  ..., -0.1554,  0.1455, -0.1280],\n",
      "        [-0.0567,  0.5124, -0.0251,  ..., -0.0592,  0.3249,  0.0562],\n",
      "        ...,\n",
      "        [ 0.0533, -0.3173,  0.2973,  ..., -0.1192,  0.2321, -0.1594],\n",
      "        [-0.6451, -0.1128,  0.1169,  ...,  0.0295, -0.2165,  0.2796],\n",
      "        [-0.3032,  0.3284, -0.3954,  ...,  0.2230,  0.3050,  0.0767]],\n",
      "       device='cuda:0')\n",
      "_________________________\n",
      "1024\n",
      "<class 'list'>\n",
      "tensor([[0., 0., 0.,  ..., 0., 0., 0.],\n",
      "        [0., 0., 0.,  ..., 0., 0., 0.],\n",
      "        [0., 0., 0.,  ..., 0., 0., 0.],\n",
      "        ...,\n",
      "        [0., 0., 0.,  ..., 0., 0., 0.],\n",
      "        [0., 0., 0.,  ..., 0., 0., 0.],\n",
      "        [0., 0., 0.,  ..., 0., 0., 0.]], device='cuda:0', dtype=torch.bfloat16)\n",
      "tensor([[0., 0., 0.,  ..., 0., 0., 0.],\n",
      "        [0., 0., 0.,  ..., 0., 0., 0.],\n",
      "        [0., 0., 0.,  ..., 0., 0., 0.],\n",
      "        ...,\n",
      "        [0., 0., 0.,  ..., 0., 0., 0.],\n",
      "        [0., 0., 0.,  ..., 0., 0., 0.],\n",
      "        [0., 0., 0.,  ..., 0., 0., 0.]], device='cuda:0', dtype=torch.bfloat16)\n",
      "tensor([[0., 0., 0.,  ..., 0., 0., 0.],\n",
      "        [0., 0., 0.,  ..., 0., 0., 0.],\n",
      "        [0., 0., 0.,  ..., 0., 0., 0.],\n",
      "        ...,\n",
      "        [0., 0., 0.,  ..., 0., 0., 0.],\n",
      "        [0., 0., 0.,  ..., 0., 0., 0.],\n",
      "        [0., 0., 0.,  ..., 0., 0., 0.]], device='cuda:0', dtype=torch.bfloat16)\n"
     ]
    }
   ],
   "source": [
    "model = 'activations_pythia_410m/data_subset/model-activations/EleutherAI_pythia-410m_11L_6.pt'\n",
    "sae = 'activations_pythia_410m/data_subset/sae-activations/EleutherAI_sae-pythia-410m-65k_11L_6.pt'\n",
    "\n",
    "\n",
    "checkpoint_model = torch.load(model, map_location=torch.device('cuda:0'), weights_only=False)\n",
    "print(len(checkpoint_model))\n",
    "print(type(checkpoint_model))\n",
    "print(checkpoint_model[3])\n",
    "print(checkpoint_model[4])\n",
    "print(checkpoint_model[5])\n",
    "\n",
    "print('_'*25)\n",
    "checkpoint_sae = torch.load(sae, map_location=torch.device('cuda:0'), weights_only=False)\n",
    "checkpoint_sae = [c.to_dense() if c is not None else None for c in checkpoint_sae]\n",
    "print(len(checkpoint_sae))\n",
    "print(type(checkpoint_sae))\n",
    "print(checkpoint_sae[3])\n",
    "print(checkpoint_sae[4])\n",
    "print(checkpoint_sae[5])"
   ]
  },
  {
   "cell_type": "code",
   "execution_count": 7,
   "id": "12900ade-088b-4eed-b910-e57a7f4c9aea",
   "metadata": {},
   "outputs": [
    {
     "data": {
      "text/plain": [
       "torch.Size([55275, 1024])"
      ]
     },
     "execution_count": 7,
     "metadata": {},
     "output_type": "execute_result"
    }
   ],
   "source": [
    "torch.cat(checkpoint_model, dim=0).shape"
   ]
  },
  {
   "cell_type": "code",
   "execution_count": 6,
   "id": "cb0c439c-c619-451c-a53b-5d48904fb024",
   "metadata": {},
   "outputs": [
    {
     "data": {
      "text/plain": [
       "torch.Size([48, 1024])"
      ]
     },
     "execution_count": 6,
     "metadata": {},
     "output_type": "execute_result"
    }
   ],
   "source": [
    "checkpoint_model[1].shape"
   ]
  },
  {
   "cell_type": "code",
   "execution_count": 7,
   "id": "7310c4b5-ff3c-4814-8d84-95d40b55f658",
   "metadata": {},
   "outputs": [],
   "source": [
    "# ---------------------------\n",
    "# 2. Convert PyTorch tensors to CuPy arrays using DLPack (zero-copy)\n",
    "# ---------------------------\n",
    "X_cupy = cp.from_dlpack(torch.utils.dlpack.to_dlpack(X_torch))\n",
    "y_cupy = cp.from_dlpack(torch.utils.dlpack.to_dlpack(y_torch))"
   ]
  },
  {
   "cell_type": "code",
   "execution_count": 8,
   "id": "fd5843ff-6583-4582-a641-d623d9a23931",
   "metadata": {},
   "outputs": [
    {
     "data": {
      "text/plain": [
       "cupy.ndarray"
      ]
     },
     "execution_count": 8,
     "metadata": {},
     "output_type": "execute_result"
    }
   ],
   "source": [
    "type(X_cupy)"
   ]
  },
  {
   "cell_type": "code",
   "execution_count": 9,
   "id": "cd459fa0-a772-462c-8e60-c5c808b96511",
   "metadata": {},
   "outputs": [
    {
     "data": {
      "text/plain": [
       "(5000, 65000)"
      ]
     },
     "execution_count": 9,
     "metadata": {},
     "output_type": "execute_result"
    }
   ],
   "source": [
    "X_cupy.shape"
   ]
  },
  {
   "cell_type": "code",
   "execution_count": 11,
   "id": "299b1cb8-b6cc-4001-880c-415ed40aae90",
   "metadata": {},
   "outputs": [
    {
     "data": {
      "text/plain": [
       "(65000,)"
      ]
     },
     "execution_count": 11,
     "metadata": {},
     "output_type": "execute_result"
    }
   ],
   "source": [
    "X_cupy[0,:].shape"
   ]
  },
  {
   "cell_type": "code",
   "execution_count": 21,
   "id": "3ef530ee-0876-486f-b0e2-d0b9bdb025a0",
   "metadata": {},
   "outputs": [
    {
     "name": "stdout",
     "output_type": "stream",
     "text": [
      "cuML SVC training time: 0.9053 seconds\n"
     ]
    }
   ],
   "source": [
    "# ---------------------------\n",
    "# 3. Initialize and fit cuML's SVC with a linear kernel\n",
    "# ---------------------------\n",
    "start = time.time()\n",
    "svc = SVC(kernel='linear', max_iter=1000)\n",
    "\n",
    "\n",
    "svc.fit(X_cupy, y_cupy)\n",
    "end = time.time()\n",
    "print(\"cuML SVC training time: {:.4f} seconds\".format(end - start))"
   ]
  },
  {
   "cell_type": "code",
   "execution_count": 20,
   "id": "04849263-529c-460f-aedc-1b8d87f18eab",
   "metadata": {},
   "outputs": [
    {
     "name": "stdout",
     "output_type": "stream",
     "text": [
      "Test accuracy: 1.0000\n"
     ]
    }
   ],
   "source": [
    "# ---------------------------\n",
    "# 4. Predict and compute accuracy on the same data (for demonstration)\n",
    "# ---------------------------\n",
    "pred = svc.predict(X_cupy)\n",
    "acc = accuracy_score(y_cupy, pred)\n",
    "print(\"Test accuracy: {:.4f}\".format(acc))"
   ]
  },
  {
   "cell_type": "code",
   "execution_count": null,
   "id": "af4bc294-ef46-4b64-a9f2-338d24b76933",
   "metadata": {},
   "outputs": [],
   "source": []
  }
 ],
 "metadata": {
  "kernelspec": {
   "display_name": "Python 3 (ipykernel)",
   "language": "python",
   "name": "python3"
  },
  "language_info": {
   "codemirror_mode": {
    "name": "ipython",
    "version": 3
   },
   "file_extension": ".py",
   "mimetype": "text/x-python",
   "name": "python",
   "nbconvert_exporter": "python",
   "pygments_lexer": "ipython3",
   "version": "3.11.9"
  }
 },
 "nbformat": 4,
 "nbformat_minor": 5
}
